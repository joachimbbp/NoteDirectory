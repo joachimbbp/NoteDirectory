{
 "cells": [
  {
   "cell_type": "code",
   "execution_count": 1,
   "metadata": {},
   "outputs": [],
   "source": [
    "import os\n",
    "from functions import * #TODO select only necessary functions\n",
    "from classes import TextSummary\n",
    "import collections\n",
    "import json"
   ]
  },
  {
   "cell_type": "code",
   "execution_count": null,
   "metadata": {},
   "outputs": [],
   "source": [
    "#TODO make Command line argument\n",
    "regenerate_entire_cache = True\n",
    "max_note_length = 800 #previously was 5000, pinning now for testing purposes\n",
    "\n",
    "#TODO Dry these paths, make relative, eventually move to a JSON file\n",
    "vault = \"/Users/joachimpfefferkorn/Obsidian/Main_Vault\"\n",
    "daily_notes_aggregated = \"/Users/joachimpfefferkorn/Obsidian/Main_Vault/daily_notes.md\"\n",
    "footer_path = \"/Users/joachimpfefferkorn/repos/daily_note_organizer/footer.md\"\n",
    "cache_folder = \"/Users/joachimpfefferkorn/repos/daily_note_organizer/cache\"\n",
    "\n",
    "\n",
    "empty_tag = \"$empty_note_summary$\"\n",
    "\n",
    "with open(footer_path, 'r') as footer_file:\n",
    "    footer = footer_file.read() #TODO update footer\n",
    "\n",
    "if not regenerate_entire_cache:\n",
    "    print(\"💾 Reading in existing cache\")\n",
    "    with open(f\"{cache_folder}/summarized_note_cache.json\", 'r') as summarized_note_cache: #TODO pickle or JSON?\n",
    "        unordered_note_summaries = json.loads(summarized_note_cache.read()) #MOVING LOGIC TO AFTER CACHE CREATION\n",
    "else:\n",
    "    print(\"🦎 Regenerating entire cache\")\n",
    "    unordered_note_summaries = {}\n",
    "\n",
    "for note in os.listdir(vault): #TODO test this edge case\n",
    "    if is_daily_note(note) and note not in unordered_note_summaries:\n",
    "        print(f\"🧩 Adding empty entry for {note} (these will be summarized later)\")\n",
    "        unordered_note_summaries[note] = empty_tag\n",
    "note_summaries = collections.OrderedDict(sorted(unordered_note_summaries.items()))\n",
    "print(\"📚 Note summary dictionary sorted\")\n",
    "\n",
    "iterator = 0\n",
    "for note, summary in note_summaries.items():\n",
    "    iterator += 1\n",
    "    print(f\"\\n🦕 Checking note {iterator} out of {len(note_summaries)}\")\n",
    "    if summary == empty_tag:\n",
    "        note_summary = create_note_summary(f\"{vault}/{note}\", max_note_length)\n",
    "#        print(\"NOTE SUMMARY:, \", note_summary) #DEBUG, delete later\n",
    "        note_summaries[note] = note_summary\n",
    "    else:\n",
    "        print(\"🕶️ Note summary already present\")\n",
    "    print(\"📑\", note)\n",
    "    print(\"📝 \", note_summaries[note])\n"
   ]
  },
  {
   "cell_type": "code",
   "execution_count": null,
   "metadata": {},
   "outputs": [],
   "source": [
    "if regenerate_entire_cache:\n",
    "    print(\"💿 Saving cache\")\n",
    "    json_cache = json.dumps(note_summaries, sort_keys=True, indent=4)\n",
    "    with open(f\"{cache_folder}/summarized_note_cache.json\", 'w') as summarized_note_cache:\n",
    "        summarized_note_cache.write(json_cache)\n",
    "\n",
    "print(\"💾 Reading in newly updated cache\")\n",
    "with open(f\"{cache_folder}/summarized_note_cache.json\", 'r') as summarized_note_cache:\n",
    "    note_summary_dict = json.loads(summarized_note_cache.read())"
   ]
  },
  {
   "cell_type": "markdown",
   "metadata": {},
   "source": []
  },
  {
   "cell_type": "code",
   "execution_count": null,
   "metadata": {},
   "outputs": [],
   "source": [
    "#INIT\n",
    "years = []\n",
    "months = []\n",
    "print(\"🐦‍🔥 Creating obisidian note of all daily notes and their summaries\")\n",
    "with open(daily_notes_aggregated, 'w') as dailynote_file:\n",
    "    for note in note_summary_dict:\n",
    "        if note[0:4] not in years:\n",
    "            print(f\"🗓️ Adding {note[0:4]}\")\n",
    "            dailynote_file.write(\"# {year}\\n\".format(year = note[0:4]))\n",
    "            years.append(note[0:4])\n",
    "        if note[0:7] not in months:\n",
    "            month = month_writer(note)\n",
    "            print(f\"Adding {month}\")\n",
    "            dailynote_file.write(\"## {month}\\n\".format(month = month))\n",
    "            months.append(note[0:7])\n",
    "\n",
    "        note_link = \"[[{note_link}]]\".format(note_link = note[:-3])\n",
    "        note_path = os.path.join(vault, note)\n",
    "        dailynote_file.write(note_link)\n",
    "        print(\"📑 Note Added: \", note_link)\n",
    "        dailynote_file.write(\"\\n - \")\n",
    "        dailynote_file.write(note_summary_dict[note])\n",
    "        print(f\"📝 Summary Added:\\n{note_summary_dict[note]}\")\n",
    "        dailynote_file.write(\"\\n\")\n"
   ]
  },
  {
   "cell_type": "code",
   "execution_count": null,
   "metadata": {},
   "outputs": [],
   "source": []
  }
 ],
 "metadata": {
  "kernelspec": {
   "display_name": ".venv",
   "language": "python",
   "name": "python3"
  },
  "language_info": {
   "codemirror_mode": {
    "name": "ipython",
    "version": 3
   },
   "file_extension": ".py",
   "mimetype": "text/x-python",
   "name": "python",
   "nbconvert_exporter": "python",
   "pygments_lexer": "ipython3",
   "version": "3.11.5"
  }
 },
 "nbformat": 4,
 "nbformat_minor": 2
}
