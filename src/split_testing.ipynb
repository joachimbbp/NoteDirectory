{
 "cells": [
  {
   "cell_type": "markdown",
   "metadata": {},
   "source": [
    "# Goals\n",
    "Models are either capped at `1024` or `512` tokens. To summarize our notes, let's split each note into appropriate sections by reading in the headers. Each section will be summarized separately,and those strings will then be concatenated together"
   ]
  },
  {
   "cell_type": "code",
   "execution_count": 14,
   "metadata": {},
   "outputs": [],
   "source": [
    "import markdown\n",
    "from transformers import pipeline, AutoTokenizer\n",
    "from functions import summarize, summarize_string"
   ]
  },
  {
   "cell_type": "code",
   "execution_count": 15,
   "metadata": {},
   "outputs": [],
   "source": [
    "MAX_HEADER_DEPTH = 6"
   ]
  },
  {
   "cell_type": "code",
   "execution_count": 16,
   "metadata": {},
   "outputs": [],
   "source": [
    "long_note = \"/Users/joachimpfefferkorn/repos/daily_note_organizer/test_media/2023-10-17.md\""
   ]
  },
  {
   "cell_type": "code",
   "execution_count": 17,
   "metadata": {},
   "outputs": [],
   "source": [
    "\n",
    "def clean_md(md_content: str):\n",
    "    #TODO\n",
    "    # Remove hyperlinks\n",
    "    # Disregard edge cases, anything encapsulated in a code block\n",
    "    # use a look up table of strings to replace instead of this shadowed variable\n",
    "    clean_note = md_content\n",
    "    clean_note = clean_note.replace('- [x]', 'Completed:').replace('- [ ]','To Do:')\n",
    "    clean_note = clean_note.replace('[[', '').replace(']]','')\n",
    "    clean_note = clean_note.replace('![[', 'Image file:')\n",
    "    return clean_note\n",
    "\n",
    "def prepare_note(md_path):\n",
    "    with open(md_path, 'r') as note:\n",
    "        md_content = note.read()\n",
    "        cleaned_md = clean_md(md_content)\n",
    "        return cleaned_md"
   ]
  },
  {
   "cell_type": "code",
   "execution_count": 18,
   "metadata": {},
   "outputs": [],
   "source": [
    "prepared_note = prepare_note(str(long_note))\n",
    "# print(type(prepared_note))\n",
    "#print(prepared_note)"
   ]
  },
  {
   "cell_type": "code",
   "execution_count": 19,
   "metadata": {},
   "outputs": [],
   "source": [
    "def init_note_sections(note):\n",
    "    \"\"\"\n",
    "    Splits the note into preamble and body, returns a list to be used in splitting functions.\n",
    "    Preamble consists of everything before the first header, body is everything after the first header\n",
    "    \"\"\"\n",
    "    preamble = \"\"\n",
    "    for i, line in enumerate(note.split(\"\\n\")):\n",
    "        if line.startswith(\"# \" or \"## \" or \"### \" or \"#### \" or \"##### \" or \"###### \") == False: #TODO dry\n",
    "            preamble += line + \" \" #TODO why no newline chars here?\n",
    "\n",
    "        else:\n",
    "            body = note[len(preamble):]\n",
    "            break\n",
    "    return [preamble, body]"
   ]
  },
  {
   "cell_type": "code",
   "execution_count": 20,
   "metadata": {},
   "outputs": [
    {
     "name": "stdout",
     "output_type": "stream",
     "text": [
      "The longest header is: '#### '\n"
     ]
    }
   ],
   "source": [
    "#GPT copypasta\n",
    "def find_longest_header(text):\n",
    "    lines = text.splitlines()  # Split the text into lines\n",
    "    # Filter lines that start with \"#\" and are followed by a space after the \"#\" characters\n",
    "    headers = [line for line in lines if line.startswith('#') and line.lstrip('#').startswith(' ')]\n",
    "    \n",
    "    if not headers:\n",
    "        return None  # Return None if no headers are found\n",
    "    \n",
    "    # Find the longest header based on the number of \"#\" characters before the space\n",
    "    longest_header = max(headers, key=lambda header: len(header.split()[0]))\n",
    "    \n",
    "    # Return only the header part (sequence of \"#\" followed by space)\n",
    "    return longest_header.split(' ')[0] + ' '\n",
    "\n",
    "# Example usage\n",
    "text = \"\"\"\n",
    "# Header 1\n",
    "## Header 2\n",
    "### Header 3\n",
    "#### Header 4\n",
    "#thisgarbageisa really long hashtag\n",
    "# Short Header\n",
    "\"\"\"\n",
    "\n",
    "longest_header = find_longest_header(text)\n",
    "print(f\"The longest header is: '{longest_header}'\")\n"
   ]
  },
  {
   "cell_type": "code",
   "execution_count": 25,
   "metadata": {},
   "outputs": [
    {
     "name": "stderr",
     "output_type": "stream",
     "text": [
      "/Users/joachimpfefferkorn/repos/daily_note_organizer/.venv/lib/python3.11/site-packages/transformers/tokenization_utils_base.py:1601: FutureWarning: `clean_up_tokenization_spaces` was not set. It will be set to `True` by default. This behavior will be depracted in transformers v4.45, and will be then set to `False` by default. For more details check this issue: https://github.com/huggingface/transformers/issues/31884\n",
      "  warnings.warn(\n",
      "Hardware accelerator e.g. GPU is available in the environment, but no `device` argument is passed to the `Pipeline` object. Model will be on CPU.\n",
      "Token indices sequence length is longer than the specified maximum sequence length for this model (2718 > 1024). Running this sequence through the model will result in indexing errors\n"
     ]
    }
   ],
   "source": [
    "model_name = \"knkarthick/MEETING_SUMMARY\"\n",
    "summarizer = pipeline(\"summarization\", model=model_name)\n",
    "TOKENIZER = AutoTokenizer.from_pretrained(model_name)\n",
    "MAX_TOKENS = TOKENIZER.model_max_length\n",
    "\n",
    "#print(f\"Max Tokens: {max_tokens}\")\n",
    "\n",
    "# Tokenize the note\n",
    "num_tokens = len(TOKENIZER(prepared_note)[0]) #Index 0 is tokens, index 1 is the attention mask"
   ]
  },
  {
   "cell_type": "code",
   "execution_count": 84,
   "metadata": {},
   "outputs": [],
   "source": [
    "def build_subsections(header_positions, lines):\n",
    "    print(\"🏭 Building Subsections\")\n",
    "    print(\"👑 Header positions: \", header_positions)\n",
    "    \n",
    "    output = []\n",
    "    for h, _ in enumerate(header_positions[:-1]):\n",
    "        start = header_positions[h]\n",
    "        end = header_positions[h+1]\n",
    "        subsection = ' '.join(lines[start:end])\n",
    "        print(f\"🪅 SUBSECTION: \\n   🎬 START:{start}🔚 END:{end}\\n{subsection}\")\n",
    "        output.append(subsection)\n",
    "    return output\n",
    "\n",
    "def split_based_on_token_size(sections, header):\n",
    "    large_section = False\n",
    "    for section in sections:\n",
    "        print(\"🪙 SECTION to tokenize: \", section)\n",
    "        tokens = TOKENIZER(section)\n",
    "        num_tokens = len(tokens['input_ids'])\n",
    "\n",
    "        if num_tokens > MAX_TOKENS:\n",
    "            large_section = True\n",
    "            print(f\"🐘 {num_tokens} found in current section, splitting it\")\n",
    "            section = split_at_header(section, f\"{header[:-1]}{header[:-1]}\")\n",
    "\n",
    "\n",
    "    if large_section == False:        \n",
    "        print(\"🦋 All sections small enough!\")\n",
    "\n",
    "        for i, section in enumerate(sections):\n",
    "            print(i)\n",
    "            num_tokens = len(TOKENIZER(section)['input_ids'])\n",
    "            print(num_tokens)\n",
    "\n",
    "    return sections\n",
    "\n",
    "    # if largest_section_length > MAX_TOKENS:\n",
    "    #     print(f\"🐘 Largest Token size is {largest_section_length}, which is Too Big (max tokens are {MAX_TOKENS})\")\n",
    "    #     return False\n",
    "    # else:\n",
    "    #     print(f\"🦋 Largest Tokens Size is {largest_section_length}, which is Small Enough (max tokens are {MAX_TOKENS})\")\n",
    "    #     return True\n",
    "\n",
    "\n",
    "def split_at_header(body: str, header_hashes: str) -> tuple: #should return list of subnotes\n",
    "    print(f\"\\n⛓️‍💥 Splitting headers starting at hashes 🟩{header_hashes}🟩\")\n",
    "\n",
    "    header_positions = []\n",
    "    lines = []\n",
    "\n",
    "    for line in body.split(\"\\n\"):\n",
    "        lines += [line]\n",
    "    print(\"INITIAL LINES:\", len(lines))\n",
    "\n",
    "\n",
    "    #for length, hash in enumerate(header_hashes):\n",
    "    #    header = header_hashes[:length+1] + ' '\n",
    "    header = header_hashes + ' '\n",
    "    print(f\"🗿 header: 🟩{header}🟩\")\n",
    "    for linenum, line in enumerate(lines):\n",
    "        if line.startswith(header):\n",
    "            header_positions += [linenum]\n",
    "\n",
    "    subsections = build_subsections(header_positions, lines)\n",
    "    subsections = split_based_on_token_size(subsections, header)\n",
    "    return subsections\n"
   ]
  },
  {
   "cell_type": "code",
   "execution_count": 85,
   "metadata": {},
   "outputs": [
    {
     "name": "stdout",
     "output_type": "stream",
     "text": [
      "⛑️ 2718 is greater than 1024, we need to split up this note\n",
      "🏄 Longest header: 🟩##### 🟩\n",
      "\n",
      "⛓️‍💥 Splitting headers starting at hashes 🟩#🟩\n",
      "INITIAL LINES: 199\n",
      "🗿 header: 🟩# 🟩\n",
      "🏭 Building Subsections\n",
      "👑 Header positions:  [0, 13, 186]\n",
      "🪅 SUBSECTION: \n",
      "   🎬 START:0🔚 END:13\n",
      "# Afternoon To-Do #meta #todoList  ## Priority Completed: Complete Python module Completed: Complete Bias and Variance ## Bonus/tomorrow: Completed: Note cleanup with Aliases (see Career and Study To - Do) To Do: Linear Algebra Note Migration Completed: Integrate with this daily note \t\tTo Do: Training, Test, and Dev Sets \t\tTo Do: regularization (#merge and integrate) \t\tTo Do: Cost and Loss Completed: Big overhaul of Bias and Variance with regards to todays notes. \n",
      "🪅 SUBSECTION: \n",
      "   🎬 START:13🔚 END:186\n",
      "# Machine Learning Specialization Notes: These notes will be integrated into other notes but kept here in their entirety. ## Bias and Variance Machine Learning Specialization Advanced Machine Learning Algorithms, Week 3  Models almost never work the first time you try them out. Let's see how we can fix them.  ### Diagnosing Bias/Variance See Bias and Variance  If you have more features, you can't visualize Bias and Variance  A more systematic way to see if you have high bias or high variance is to look at the performance of the algorithm on the Training, Test, and Dev Sets|training set and dev set  A characteristic of a High Bias (under-fit) model is that $Jtrain$ (cost of the Training, Test, and Dev Sets|training set) is high. A characteristic of a High Variance (overfit) model is that $J_{cv}$ is high but $J_{train}$ is low. #### Slide !Screenshot 2023-10-17 at 1.26.00 PM.png  ### Understanding Bias and Variance Take degree of polynomial $d$ As $d$ increases, that is to say we add degrees to the polynomial $J_{train}({\\vec{w},b})$  will decrease. $J_{cv}(\\vec{w},b)$ dips towards the middle, showing the ideal degree for the polynomial.  #### Slide !Screenshot 2023-10-17 at 1.29.21 PM.png  ### Technique for Diagnosing Bias and Variance How do you tell if your algorithm has a high bias or variance problem?  One key takeaway is that high bias means it is not even doing well on the training set and high variance means it does much worse on the cross validation set and the training set. #### High Bias (under-fit) In an under-fit model $J_{train}$ will be high and $J_{train} \\approx J_{cv}$  #### High Variance (overfit) In an over-fit model $J_{cv} \\gg J_{train}$ and $J_{train}$ will be low. #### High Bias and High Variance In a model with both high bias and high variance $J_{train}$ will be high and $J_{cv} \\gg J_{train}$  This is rare, and doesn't really happen for linear models with one $d$, but it does happen. This is when it overfits for some part of the input and under-fits for another part of the input. #### Slide !Screenshot 2023-10-17 at 1.38.51 PM.png  ## Regularization and bias/variance ### Linear Regression with Regularization Regularized Linear Regression model: Lambda $\\lambda$ is the regularization parameter (Big #merge and cleanup needed here in the regularization, Regularized Linear Regression, cost, Cost and Loss, loss, Loss Function, etc. Aliases are needed in many of these)  Take this model: $$f_{\\vec{w},b}(x)=w_1+w_2x^2 + w_4x^4+b$$ With this regularization|regularized Cost and Loss $$J(\\vec{w},b)=\\frac{1}{2m} \\sum_{i=1}^{m}(f_{\\vec{w},{b}}(\\vec{x}^{(i)}-y^{(i)})^2+\\frac{\\lambda}{2m} \\sum_{j=1}^nw_j^2$$  If lambda is large, say $\\lambda = 10,000$ than $w_1 \\approx 0, W_2 \\approx 0$ and $f_{\\vec{x},b}\\vec{x} \\approx b$, thus the model creates a flat line. This is underfit, $J_{train}()  On the other hand, if we set $\\lambda=0$, then we have a forth order polynomial with no regularization. We end up with a very overfit curve.  So, how do we find a good value for $\\lambda$? ##### Slide !Screenshot 2023-10-17 at 3.56.53 PM.png ### Choosing the Regularization parameter $\\lambda$   This will be similar to choosing $d$ with cross validation Try multiple values for $\\lambda$ and then choose the option with the lowest cost. ### Slide !Screenshot 2023-10-17 at 4.15.27 PM.png ### Bias and Variance as a Function of regularization parameter $\\lambda$  Cross Validation tries out many versions of $\\lambda$ and then chooses the one with the lowest cost. Cross validation will help find us a a good value of $d$ as well as $\\lambda$  #### Slide !Screenshot 2023-10-17 at 4.14.07 PM.png   ## Establishing A Baseline Level of Performance ### Speech Recognition example Job is to take in audio and output the text of what a person is saying  Training error $J_{train}$ is percentage of audio clips that the program does not transcribe correctly in it's entirety. Lets say: \tHuman Level Performance: 10.6 \t$J_{train}$: 10.8% \t$J_{cv}$: 14.8%  Why is human level error so high? There is lots of noise in the audio. It seems unfair to expect a learning algorithm to do much better. It is thus is more useful to measure the training error against the human error. So, looking at these results, $J_{train}$ is only 0.2$ higher than the human level performance whereas $J_{cv}$ is a full 4.2% higher. We can thus conclude that this algorithm has more of a variance problem than a bias problem. ### Establishing a baseline level of performance What is the level of error you can reasonably hope to get to? - Human level performance - Competing algorithms performance - Guess based on experience ### Bias Variance Examples Gap between baseline and training error shows high bias. A gap between training error and cross validation error shows high variance.  If your goal is perfection, the baseline would be zero. But for a lot of real world examples, like audio recognition, there is a lot of noise in the data, so you need a higher baseline.  If there is a gap between all three is high you have both high bias and high variance. #### Slide !Screenshot 2023-10-17 at 4.42.49 PM.png   ## Learning Curves  Noted in Learning Curves ### Overview Learning curves help understand how your learning algorithm is doing as a function of the amount of experience it has. Experience being the number of training examples it has.  The bigger the training set the harder it is to fit all examples perfectly. Thus; as the training set increases so does the training error $J_{train}(\\vec{w},b)$   Plotting a learning curve by training different models based on different subsets of training data is computationally expensive, so in practice it isn't done that often. But, it's a good mental visualization. #### Slides !Screenshot 2023-10-17 at 5.40.04 PM.png    ### High Bias Example If a learning algorithm suffers from high bias, getting more training data will not (by itself) help that much. #### Slide for High Bias !Screenshot 2023-10-17 at 5.44.29 PM.png  ### High Variance Example If a learning algorithm suffers from high variance, getting more training data is likely to help. #### Slide for High Variance !Screenshot 2023-10-17 at 5.49.45 PM.png    ## Deciding what to try next revisited ### Examples when Debugging an Algorithm: Get more training examples: fixes high variance Try smaller set of features: fixes high variance Try getting additional features: fixes high bias \tExamples; an algorithm that lacks information wont even do well on the training set Adding polynomial features ($x_1^2,X_2^2, etc$): Fixes high bias Decreasing $\\lambda$ Fixes high bias Increasing $\\lambda$ Fixes high variance \tForces the algorithm to force a smoother function.  **Note!** Don't randomly throw away training examples just to fix a high bias problem. ### Takeaway #merge with Bias and Variance ? If your algorithm has high variance, try simplifying your model or getting more training data. Simplification can mean a smaller set of features or an increased regularization If your algorithm has high bias, that is to say its not even doing well on the training set, you mainly need to make your model more powerful and flexible to fit more complex functions. To do so you can give it additional features, add polynomial features, or decrease $\\lambda$   ## Bias/Variance and Neural Networks ### The bias variance tradeoff Simple model = high bias Complex model = high variance Before neural networks, we had to worry about balancing this complexity between bias and variance. With neural networks we now are mostly worried about high variance.  ### Neural Networks and bias variance Large Neural Network|neural networks are low bias machines. If you make your neural network large enough you can almost always fit your training set well. #### Recipe for decreasing bias with a neural network 1. Train a neural network 2.  If the training set error $J_{train}(\\vec{w},b)$ is high relative to your baseline, increase the size of the neural network by adding hidden layers. 3. Once $J_{train}(\\vec{w},b)$ is low enough, see if it does well on the cross validation set 4.  If the cross validation set $J_{cv}(\\vec{w},b)$ is too high, add more data, then test again from step 2. 5. Repeat until $J_{cv}(\\vec{w},b)$  is low enough for your liking. ##### Slide Illustration !Screenshot 2023-10-17 at 6.38.46 PM.png ### Limitations and Notes Bigger networks are restricted by your computing power, data is restricted to the amount of data you have.  Sometimes you will pingpong back between high bias and high variance as you move through this recipe and develop a machine learning algorithm. Use these observations to shape what you do next in the process.  ### Neural Networks and Regularization A large neural network will usually do as well or better than a smaller one so long as regularization is chosen appropriately. Of course, larger neural networks are more computationally expensive. ### Neural Network Regularization #important  #function and TensorFlow implementation: !Screenshot 2023-10-17 at 6.46.28 PM.png*Note usually don't regularize B, it doesn't really affect anything*\n",
      "🪙 SECTION to tokenize:  # Afternoon To-Do #meta #todoList  ## Priority Completed: Complete Python module Completed: Complete Bias and Variance ## Bonus/tomorrow: Completed: Note cleanup with Aliases (see Career and Study To - Do) To Do: Linear Algebra Note Migration Completed: Integrate with this daily note \t\tTo Do: Training, Test, and Dev Sets \t\tTo Do: regularization (#merge and integrate) \t\tTo Do: Cost and Loss Completed: Big overhaul of Bias and Variance with regards to todays notes. \n",
      "🪙 SECTION to tokenize:  # Machine Learning Specialization Notes: These notes will be integrated into other notes but kept here in their entirety. ## Bias and Variance Machine Learning Specialization Advanced Machine Learning Algorithms, Week 3  Models almost never work the first time you try them out. Let's see how we can fix them.  ### Diagnosing Bias/Variance See Bias and Variance  If you have more features, you can't visualize Bias and Variance  A more systematic way to see if you have high bias or high variance is to look at the performance of the algorithm on the Training, Test, and Dev Sets|training set and dev set  A characteristic of a High Bias (under-fit) model is that $Jtrain$ (cost of the Training, Test, and Dev Sets|training set) is high. A characteristic of a High Variance (overfit) model is that $J_{cv}$ is high but $J_{train}$ is low. #### Slide !Screenshot 2023-10-17 at 1.26.00 PM.png  ### Understanding Bias and Variance Take degree of polynomial $d$ As $d$ increases, that is to say we add degrees to the polynomial $J_{train}({\\vec{w},b})$  will decrease. $J_{cv}(\\vec{w},b)$ dips towards the middle, showing the ideal degree for the polynomial.  #### Slide !Screenshot 2023-10-17 at 1.29.21 PM.png  ### Technique for Diagnosing Bias and Variance How do you tell if your algorithm has a high bias or variance problem?  One key takeaway is that high bias means it is not even doing well on the training set and high variance means it does much worse on the cross validation set and the training set. #### High Bias (under-fit) In an under-fit model $J_{train}$ will be high and $J_{train} \\approx J_{cv}$  #### High Variance (overfit) In an over-fit model $J_{cv} \\gg J_{train}$ and $J_{train}$ will be low. #### High Bias and High Variance In a model with both high bias and high variance $J_{train}$ will be high and $J_{cv} \\gg J_{train}$  This is rare, and doesn't really happen for linear models with one $d$, but it does happen. This is when it overfits for some part of the input and under-fits for another part of the input. #### Slide !Screenshot 2023-10-17 at 1.38.51 PM.png  ## Regularization and bias/variance ### Linear Regression with Regularization Regularized Linear Regression model: Lambda $\\lambda$ is the regularization parameter (Big #merge and cleanup needed here in the regularization, Regularized Linear Regression, cost, Cost and Loss, loss, Loss Function, etc. Aliases are needed in many of these)  Take this model: $$f_{\\vec{w},b}(x)=w_1+w_2x^2 + w_4x^4+b$$ With this regularization|regularized Cost and Loss $$J(\\vec{w},b)=\\frac{1}{2m} \\sum_{i=1}^{m}(f_{\\vec{w},{b}}(\\vec{x}^{(i)}-y^{(i)})^2+\\frac{\\lambda}{2m} \\sum_{j=1}^nw_j^2$$  If lambda is large, say $\\lambda = 10,000$ than $w_1 \\approx 0, W_2 \\approx 0$ and $f_{\\vec{x},b}\\vec{x} \\approx b$, thus the model creates a flat line. This is underfit, $J_{train}()  On the other hand, if we set $\\lambda=0$, then we have a forth order polynomial with no regularization. We end up with a very overfit curve.  So, how do we find a good value for $\\lambda$? ##### Slide !Screenshot 2023-10-17 at 3.56.53 PM.png ### Choosing the Regularization parameter $\\lambda$   This will be similar to choosing $d$ with cross validation Try multiple values for $\\lambda$ and then choose the option with the lowest cost. ### Slide !Screenshot 2023-10-17 at 4.15.27 PM.png ### Bias and Variance as a Function of regularization parameter $\\lambda$  Cross Validation tries out many versions of $\\lambda$ and then chooses the one with the lowest cost. Cross validation will help find us a a good value of $d$ as well as $\\lambda$  #### Slide !Screenshot 2023-10-17 at 4.14.07 PM.png   ## Establishing A Baseline Level of Performance ### Speech Recognition example Job is to take in audio and output the text of what a person is saying  Training error $J_{train}$ is percentage of audio clips that the program does not transcribe correctly in it's entirety. Lets say: \tHuman Level Performance: 10.6 \t$J_{train}$: 10.8% \t$J_{cv}$: 14.8%  Why is human level error so high? There is lots of noise in the audio. It seems unfair to expect a learning algorithm to do much better. It is thus is more useful to measure the training error against the human error. So, looking at these results, $J_{train}$ is only 0.2$ higher than the human level performance whereas $J_{cv}$ is a full 4.2% higher. We can thus conclude that this algorithm has more of a variance problem than a bias problem. ### Establishing a baseline level of performance What is the level of error you can reasonably hope to get to? - Human level performance - Competing algorithms performance - Guess based on experience ### Bias Variance Examples Gap between baseline and training error shows high bias. A gap between training error and cross validation error shows high variance.  If your goal is perfection, the baseline would be zero. But for a lot of real world examples, like audio recognition, there is a lot of noise in the data, so you need a higher baseline.  If there is a gap between all three is high you have both high bias and high variance. #### Slide !Screenshot 2023-10-17 at 4.42.49 PM.png   ## Learning Curves  Noted in Learning Curves ### Overview Learning curves help understand how your learning algorithm is doing as a function of the amount of experience it has. Experience being the number of training examples it has.  The bigger the training set the harder it is to fit all examples perfectly. Thus; as the training set increases so does the training error $J_{train}(\\vec{w},b)$   Plotting a learning curve by training different models based on different subsets of training data is computationally expensive, so in practice it isn't done that often. But, it's a good mental visualization. #### Slides !Screenshot 2023-10-17 at 5.40.04 PM.png    ### High Bias Example If a learning algorithm suffers from high bias, getting more training data will not (by itself) help that much. #### Slide for High Bias !Screenshot 2023-10-17 at 5.44.29 PM.png  ### High Variance Example If a learning algorithm suffers from high variance, getting more training data is likely to help. #### Slide for High Variance !Screenshot 2023-10-17 at 5.49.45 PM.png    ## Deciding what to try next revisited ### Examples when Debugging an Algorithm: Get more training examples: fixes high variance Try smaller set of features: fixes high variance Try getting additional features: fixes high bias \tExamples; an algorithm that lacks information wont even do well on the training set Adding polynomial features ($x_1^2,X_2^2, etc$): Fixes high bias Decreasing $\\lambda$ Fixes high bias Increasing $\\lambda$ Fixes high variance \tForces the algorithm to force a smoother function.  **Note!** Don't randomly throw away training examples just to fix a high bias problem. ### Takeaway #merge with Bias and Variance ? If your algorithm has high variance, try simplifying your model or getting more training data. Simplification can mean a smaller set of features or an increased regularization If your algorithm has high bias, that is to say its not even doing well on the training set, you mainly need to make your model more powerful and flexible to fit more complex functions. To do so you can give it additional features, add polynomial features, or decrease $\\lambda$   ## Bias/Variance and Neural Networks ### The bias variance tradeoff Simple model = high bias Complex model = high variance Before neural networks, we had to worry about balancing this complexity between bias and variance. With neural networks we now are mostly worried about high variance.  ### Neural Networks and bias variance Large Neural Network|neural networks are low bias machines. If you make your neural network large enough you can almost always fit your training set well. #### Recipe for decreasing bias with a neural network 1. Train a neural network 2.  If the training set error $J_{train}(\\vec{w},b)$ is high relative to your baseline, increase the size of the neural network by adding hidden layers. 3. Once $J_{train}(\\vec{w},b)$ is low enough, see if it does well on the cross validation set 4.  If the cross validation set $J_{cv}(\\vec{w},b)$ is too high, add more data, then test again from step 2. 5. Repeat until $J_{cv}(\\vec{w},b)$  is low enough for your liking. ##### Slide Illustration !Screenshot 2023-10-17 at 6.38.46 PM.png ### Limitations and Notes Bigger networks are restricted by your computing power, data is restricted to the amount of data you have.  Sometimes you will pingpong back between high bias and high variance as you move through this recipe and develop a machine learning algorithm. Use these observations to shape what you do next in the process.  ### Neural Networks and Regularization A large neural network will usually do as well or better than a smaller one so long as regularization is chosen appropriately. Of course, larger neural networks are more computationally expensive. ### Neural Network Regularization #important  #function and TensorFlow implementation: !Screenshot 2023-10-17 at 6.46.28 PM.png*Note usually don't regularize B, it doesn't really affect anything*\n",
      "🐘 2323 found in current section, splitting it\n",
      "\n",
      "⛓️‍💥 Splitting headers starting at hashes 🟩##🟩\n",
      "INITIAL LINES: 1\n",
      "🗿 header: 🟩## 🟩\n",
      "🏭 Building Subsections\n",
      "👑 Header positions:  []\n",
      "🦋 All sections small enough!\n",
      "🫀 there are 2 new sections after splitting the body\n",
      "SECTIONS:\n",
      "['#dailyNote   spam for note testing  more preamble  ']\n"
     ]
    }
   ],
   "source": [
    "\n",
    "# If the note is longer than max_tokens, split the note into each header\n",
    "summary = \"No summary yet... initialized value\"\n",
    "\n",
    "if num_tokens <= MAX_TOKENS:\n",
    "    print(f\"😎 All good:\\n{num_tokens} tokens less than {MAX_TOKENS} maximum\")\n",
    "    summary = summarize_string(prepared_note, summarizer, TOKENIZER)\n",
    "else:\n",
    "    print(f\"⛑️ {num_tokens} is greater than {MAX_TOKENS}, we need to split up this note\")\n",
    "\n",
    "    note_sections = init_note_sections(prepared_note)\n",
    "    longest_header = find_longest_header(note_sections[1])\n",
    "    print(f\"🏄 Longest header: 🟩{longest_header}🟩\")\n",
    "\n",
    "    preamble = [str(note_sections[0])]\n",
    "    body = str(note_sections[1])\n",
    "    new_sections = split_at_header(body, \"#\")\n",
    "\n",
    "    print(f\"🫀 there are {len(new_sections)} new sections after splitting the body\")\n",
    "    # all_sections = preamble\n",
    "    # for section in new_sections:\n",
    "    #     all_sections.extend(section)\n",
    "    \n",
    "\n",
    "\n",
    "    subsection_summaries = []\n",
    "    print(\"SECTIONS:\")\n",
    "    print(all_sections)\n",
    "    # for i, section in enumerate(all_sections):\n",
    "    #     print(i)\n",
    "    #     print(section)\n",
    "#         subsection_summaries += [summarize_string(section, summarizer, TOKENIZER)]\n",
    "#     summary = \"\\n\".join(subsection_summaries)\n",
    "\n",
    "# print(\"💅 Final, summarized note:\\n\", summary)\n",
    "    \n",
    "    \n",
    "# if no headers are left and the note is longer than max_tokens, split at the middle line break\n",
    "# Keep splitting each sub-section at the middle line break until there is a single line\n",
    "# If the single line is longer than max_tokens, split the line at the middle char\n",
    "# Keep splitting each sub line at the middle char until it is less than max_tokens\n"
   ]
  },
  {
   "cell_type": "code",
   "execution_count": 77,
   "metadata": {},
   "outputs": [],
   "source": [
    "# Send each section to the summarizer\n",
    "# perhaps if the section is too small (like the hashtag preamble in some notes, just dont send at all)"
   ]
  }
 ],
 "metadata": {
  "kernelspec": {
   "display_name": ".venv",
   "language": "python",
   "name": "python3"
  },
  "language_info": {
   "codemirror_mode": {
    "name": "ipython",
    "version": 3
   },
   "file_extension": ".py",
   "mimetype": "text/x-python",
   "name": "python",
   "nbconvert_exporter": "python",
   "pygments_lexer": "ipython3",
   "version": "3.11.5"
  }
 },
 "nbformat": 4,
 "nbformat_minor": 2
}
